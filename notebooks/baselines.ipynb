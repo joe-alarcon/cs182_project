{
 "cells": [
  {
   "cell_type": "code",
   "execution_count": 33,
   "id": "75ee965b",
   "metadata": {},
   "outputs": [],
   "source": [
    "import random"
   ]
  },
  {
   "cell_type": "code",
   "execution_count": 34,
   "id": "a4ea516e",
   "metadata": {},
   "outputs": [
    {
     "name": "stdout",
     "output_type": "stream",
     "text": [
      "Number 1010 in base 2 is 12 in base 8.\n"
     ]
    }
   ],
   "source": [
    "def convert_base_x_to_y(number: str, base_x: int, base_y: int) -> str:\n",
    "    \"\"\"\n",
    "    Convert a number from base X to base Y.\n",
    "\n",
    "    Args:\n",
    "        number (str): The number in base X as a string.\n",
    "        base_x (int): The base of the input number (2 <= base_x <= 10).\n",
    "        base_y (int): The base to convert to (2 <= base_y <= 10).\n",
    "\n",
    "    Returns:\n",
    "        str: The number in base Y as a string.\n",
    "    \"\"\"\n",
    "    if not (2 <= base_x <= 10 and 2 <= base_y <= 10):\n",
    "        raise ValueError(\"Base X and Base Y must be between 2 and 10 inclusive.\")\n",
    "\n",
    "    # Convert the number from base X to decimal (base 10)\n",
    "    decimal_value = int(number, base_x)\n",
    "\n",
    "    # Convert the decimal value to base Y\n",
    "    result = \"\"\n",
    "    while decimal_value > 0:\n",
    "        result = str(decimal_value % base_y) + result\n",
    "        decimal_value //= base_y\n",
    "\n",
    "    return result or \"0\"  # Return \"0\" if the input number is \"0\"\n",
    "\n",
    "# Example usage:\n",
    "number_in_base_x = \"1010\"  # Binary (base 2)\n",
    "base_x = 2\n",
    "base_y = 8\n",
    "converted_number = convert_base_x_to_y(number_in_base_x, base_x, base_y)\n",
    "print(f\"Number {number_in_base_x} in base {base_x} is {converted_number} in base {base_y}.\")"
   ]
  },
  {
   "cell_type": "code",
   "execution_count": 35,
   "id": "92d89cd2",
   "metadata": {},
   "outputs": [],
   "source": [
    "def convert_base_x_to_y(number: int, base_x: int, base_y: int) -> int:\n",
    "    \"\"\"\n",
    "    Convert a number from base X to base Y, ensuring inputs and outputs are integers.\n",
    "\n",
    "    Args:\n",
    "        number (int): The number in base X as an integer.\n",
    "        base_x (int): The base of the input number (2 <= base_x <= 10).\n",
    "        base_y (int): The base to convert to (2 <= base_y <= 10).\n",
    "\n",
    "    Returns:\n",
    "        int: The number in base Y as an integer.\n",
    "    \"\"\"\n",
    "    if not (2 <= base_x <= 10 and 2 <= base_y <= 10):\n",
    "        raise ValueError(\"Base X and Base Y must be between 2 and 10 inclusive.\")\n",
    "\n",
    "    # Convert the number from base X to decimal (base 10)\n",
    "    decimal_value = int(str(number), base_x)\n",
    "\n",
    "    # Convert the decimal value to base Y\n",
    "    result = 0\n",
    "    multiplier = 1\n",
    "    while decimal_value > 0:\n",
    "        result += (decimal_value % base_y) * multiplier\n",
    "        decimal_value //= base_y\n",
    "        multiplier *= 10\n",
    "\n",
    "    return result"
   ]
  },
  {
   "cell_type": "code",
   "execution_count": null,
   "id": "5919dd99",
   "metadata": {},
   "outputs": [],
   "source": []
  },
  {
   "cell_type": "code",
   "execution_count": 36,
   "id": "38391887",
   "metadata": {},
   "outputs": [],
   "source": [
    "def generate_base_conversion_pairs(base_in: int, base_out: int, num_to_generate: int, lower_bound: int = 1, upper_bound: int = 1000):\n",
    "    \"\"\"\n",
    "    Generate input-output pairs for numbers converted between two bases, with customizable bounds.\n",
    "\n",
    "    Args:\n",
    "        base_in (int): The base of the input numbers (2 <= base_in <= 10).\n",
    "        base_out (int): The base of the output numbers (2 <= base_out <= 10).\n",
    "        num_to_generate (int): The number of input-output pairs to generate.\n",
    "        lower_bound (int): The lower bound for the random numbers (inclusive).\n",
    "        upper_bound (int): The upper bound for the random numbers (inclusive).\n",
    "\n",
    "    Returns:\n",
    "        list: A list of tuples where each tuple contains an input number (str) in base_in\n",
    "              and its corresponding output number (str) in base_out.\n",
    "    \"\"\"\n",
    "    if not (2 <= base_in <= 10 and 2 <= base_out <= 10):\n",
    "        raise ValueError(\"Base_in and Base_out must be between 2 and 10 inclusive.\")\n",
    "    if lower_bound < 0 or upper_bound < lower_bound:\n",
    "        raise ValueError(\"Bounds must be non-negative and lower_bound <= upper_bound.\")\n",
    "\n",
    "    pairs = []\n",
    "    for _ in range(num_to_generate):\n",
    "        # Generate a random number within the specified bounds\n",
    "        decimal_value = random.randint(lower_bound, upper_bound)\n",
    "        input_number = format(decimal_value, f'0{base_in}b') if base_in == 2 else str(decimal_value)\n",
    "\n",
    "        # Convert the number to base_out\n",
    "        output_number = convert_base_x_to_y(input_number, base_in, base_out)\n",
    "        pairs.append((input_number, output_number))\n",
    "\n",
    "    return pairs"
   ]
  },
  {
   "cell_type": "code",
   "execution_count": 37,
   "id": "9f2d9715",
   "metadata": {},
   "outputs": [],
   "source": [
    "import numpy as np\n",
    "\n",
    "def generate_base_conversion_pairs_fast(base_in: int, base_out: int, num_to_generate: int, lower_bound: int = 1, upper_bound: int = 1000):\n",
    "    \"\"\"\n",
    "    Generate input-output pairs for numbers converted between two bases using NumPy for faster computation.\n",
    "\n",
    "    Args:\n",
    "        base_in (int): The base of the input numbers (2 <= base_in <= 10).\n",
    "        base_out (int): The base of the output numbers (2 <= base_out <= 10).\n",
    "        num_to_generate (int): The number of input-output pairs to generate.\n",
    "        lower_bound (int): The lower bound for the random numbers (inclusive).\n",
    "        upper_bound (int): The upper bound for the random numbers (inclusive).\n",
    "\n",
    "    Returns:\n",
    "        list: A list of tuples where each tuple contains an input number (str) in base_in\n",
    "              and its corresponding output number (str) in base_out.\n",
    "    \"\"\"\n",
    "    if not (2 <= base_in <= 10 and 2 <= base_out <= 10):\n",
    "        raise ValueError(\"Base_in and Base_out must be between 2 and 10 inclusive.\")\n",
    "    if lower_bound < 0 or upper_bound < lower_bound:\n",
    "        raise ValueError(\"Bounds must be non-negative and lower_bound <= upper_bound.\")\n",
    "\n",
    "    decimal_values = np.random.randint(lower_bound, upper_bound + 1, size=num_to_generate)\n",
    "\n",
    "    input_numbers = np.vectorize(lambda x: int(format(x, f'0{base_in}b') if base_in == 2 else str(x)))(decimal_values)\n",
    "\n",
    "    output_numbers = np.vectorize(lambda x: int(np.base_repr(x, base_out)))(decimal_values)\n",
    "\n",
    "    pairs = list(zip(input_numbers, output_numbers))\n",
    "\n",
    "    return pairs"
   ]
  },
  {
   "cell_type": "code",
   "execution_count": 38,
   "id": "9a1f9e61",
   "metadata": {},
   "outputs": [
    {
     "name": "stdout",
     "output_type": "stream",
     "text": [
      "[(np.int64(10001), np.int64(17)), (np.int64(11011), np.int64(27)), (np.int64(100111), np.int64(39)), (np.int64(1010101), np.int64(85)), (np.int64(111101), np.int64(61)), (np.int64(1100010), np.int64(98)), (np.int64(11100), np.int64(28)), (np.int64(1001110), np.int64(78)), (np.int64(11011), np.int64(27)), (np.int64(1011010), np.int64(90)), (np.int64(1100010), np.int64(98)), (np.int64(110100), np.int64(52)), (np.int64(1000011), np.int64(67)), (np.int64(11001), np.int64(25)), (np.int64(1111), np.int64(15)), (np.int64(110011), np.int64(51)), (np.int64(1100001), np.int64(97)), (np.int64(1010001), np.int64(81)), (np.int64(1100010), np.int64(98)), (np.int64(1010010), np.int64(82)), (np.int64(1001010), np.int64(74)), (np.int64(1000), np.int64(8)), (np.int64(1001000), np.int64(72)), (np.int64(1001), np.int64(9)), (np.int64(11111), np.int64(31)), (np.int64(111100), np.int64(60)), (np.int64(10001), np.int64(17)), (np.int64(10), np.int64(2)), (np.int64(110000), np.int64(48)), (np.int64(101), np.int64(5)), (np.int64(100100), np.int64(36)), (np.int64(110101), np.int64(53)), (np.int64(111001), np.int64(57)), (np.int64(101101), np.int64(45)), (np.int64(110100), np.int64(52)), (np.int64(1010001), np.int64(81)), (np.int64(101011), np.int64(43)), (np.int64(1), np.int64(1)), (np.int64(1001100), np.int64(76)), (np.int64(1111), np.int64(15)), (np.int64(1011011), np.int64(91)), (np.int64(1001000), np.int64(72)), (np.int64(1001011), np.int64(75)), (np.int64(100010), np.int64(34)), (np.int64(110100), np.int64(52)), (np.int64(1011110), np.int64(94)), (np.int64(1010001), np.int64(81)), (np.int64(1010100), np.int64(84)), (np.int64(100010), np.int64(34)), (np.int64(101010), np.int64(42))]\n"
     ]
    }
   ],
   "source": [
    "# Example usage of generate_base_conversion_pairs\n",
    "base_in = 2\n",
    "base_out = 10\n",
    "num_to_generate = 50\n",
    "lower_bound = 1\n",
    "upper_bound = 100\n",
    "\n",
    "pairs = generate_base_conversion_pairs_fast(base_in, base_out, num_to_generate, lower_bound, upper_bound)\n",
    "print(pairs)"
   ]
  },
  {
   "cell_type": "code",
   "execution_count": 39,
   "id": "f7eb7e48",
   "metadata": {},
   "outputs": [],
   "source": [
    "import numpy as np\n",
    "\n",
    "def generate_conversion_datasets_random_bases(base_out: int = 10,\n",
    "                                              a: int = 1000,\n",
    "                                              b: int = 50,\n",
    "                                              c: int = 10,\n",
    "                                              lower_bound: int = 1,\n",
    "                                              upper_bound: int = 1000):\n",
    "    \"\"\"\n",
    "    Generate train/test splits of base-conversion pairs, picking a random input base\n",
    "    in [2..9] for each of the a runs, and ensuring each run's train & test use the same base.\n",
    "\n",
    "    Args:\n",
    "        base_out (int):  Output base (2–10).\n",
    "        a (int):         Number of separate “runs” (default 1000).\n",
    "        b (int):         Training examples per run (default 50).\n",
    "        c (int):         Test examples per run (default 10).\n",
    "        lower_bound (int): Min random integer, inclusive.\n",
    "        upper_bound (int): Max random integer, inclusive.\n",
    "\n",
    "    Returns:\n",
    "        train_X (np.ndarray): shape (a, b), dtype=int — inputs in their randomly chosen base_in\n",
    "        train_Y (np.ndarray): shape (a, b), dtype=int — corresponding outputs in base_out\n",
    "        test_X  (np.ndarray): shape (a, c), dtype=int\n",
    "        test_Y  (np.ndarray): shape (a, c), dtype=int\n",
    "    \"\"\"\n",
    "    # sample a random base_in for each run, from 2 to 9 inclusive\n",
    "    base_ins = np.random.randint(2, 10, size=a)\n",
    "\n",
    "    # prepare empty arrays\n",
    "    train_X = np.zeros((a, b), dtype=int)\n",
    "    train_Y = np.zeros((a, b), dtype=int)\n",
    "    test_X  = np.zeros((a, c), dtype=int)\n",
    "    test_Y  = np.zeros((a, c), dtype=int)\n",
    "\n",
    "    # for each run, generate b train and c test pairs with the same base_in\n",
    "    for i, base_in in enumerate(base_ins):\n",
    "        # generate training pairs\n",
    "        train_pairs = generate_base_conversion_pairs_fast(\n",
    "            base_in, base_out, b, lower_bound, upper_bound\n",
    "        )\n",
    "        # generate test pairs\n",
    "        test_pairs  = generate_base_conversion_pairs_fast(\n",
    "            base_in, base_out, c, lower_bound, upper_bound\n",
    "        )\n",
    "\n",
    "        # convert to arrays and split into X (inputs) / Y (outputs)\n",
    "        train_arr = np.array(train_pairs, dtype=int)   # shape (b, 2)\n",
    "        test_arr  = np.array(test_pairs,  dtype=int)   # shape (c, 2)\n",
    "\n",
    "        train_X[i] = train_arr[:, 0]\n",
    "        train_Y[i] = train_arr[:, 1]\n",
    "        test_X[i]  = test_arr[:, 0]\n",
    "        test_Y[i]  = test_arr[:, 1]\n",
    "\n",
    "    return train_X, train_Y, test_X, test_Y\n"
   ]
  },
  {
   "cell_type": "code",
   "execution_count": 40,
   "id": "c1083b7b",
   "metadata": {},
   "outputs": [],
   "source": [
    "def predict_mean(train_X: np.ndarray,\n",
    "                train_Y: np.ndarray,\n",
    "                 test_X:  np.ndarray) -> np.ndarray:\n",
    "    \"\"\"\n",
    "    Predict test_Y by using the mean of each run’s train_Y for all its test examples.\n",
    "\n",
    "    Args:\n",
    "        train_Y (np.ndarray): shape (a, b), training labels for each of a runs\n",
    "        test_X  (np.ndarray): shape (a, c), test inputs for each of a runs (only used for shape)\n",
    "\n",
    "    Returns:\n",
    "        np.ndarray: shape (a, c), predicted labels (floats) for each run’s test set\n",
    "    \"\"\"\n",
    "    # number of runs and number of test examples per run\n",
    "    a, b = train_Y.shape\n",
    "    _, c = test_X.shape\n",
    "\n",
    "    # compute per-run mean of the b train_Y values\n",
    "    means = train_Y.mean(axis=1)       # shape (a,)\n",
    "\n",
    "    # broadcast each mean to all c test positions\n",
    "    preds = np.repeat(means[:, np.newaxis], c, axis=1)  # shape (a, c)\n",
    "\n",
    "    return preds\n"
   ]
  },
  {
   "cell_type": "code",
   "execution_count": 41,
   "id": "f2d22511",
   "metadata": {},
   "outputs": [],
   "source": [
    "def predict_3nn(train_X: np.ndarray,\n",
    "                train_Y: np.ndarray,\n",
    "                test_X:  np.ndarray,\n",
    "                k:       int = 3) -> np.ndarray:\n",
    "    \"\"\"\n",
    "    Predict test_Y using k-NN (default k=3) for each run separately.\n",
    "\n",
    "    Args:\n",
    "        train_X (np.ndarray): shape (a, b), training inputs for each of a runs\n",
    "        train_Y (np.ndarray): shape (a, b), training labels for each of a runs\n",
    "        test_X  (np.ndarray): shape (a, c), test inputs for each of a runs\n",
    "        k       (int):        number of neighbors to use (default 3)\n",
    "\n",
    "    Returns:\n",
    "        np.ndarray: shape (a, c), predicted labels for each run’s test set\n",
    "    \"\"\"\n",
    "    a, b = train_X.shape\n",
    "    _, c = test_X.shape\n",
    "\n",
    "    # initialize output array\n",
    "    preds = np.zeros((a, c), dtype=train_Y.dtype)\n",
    "\n",
    "    for i in range(a):\n",
    "        # for each test example in run i\n",
    "        for j in range(c):\n",
    "            # compute distances to all b training points\n",
    "            dists = np.abs(train_X[i] - test_X[i, j])\n",
    "            # find indices of the k smallest distances\n",
    "            nn_idx = np.argsort(dists)[:k]\n",
    "            # get their labels\n",
    "            nn_labels = train_Y[i, nn_idx]\n",
    "            # pick the most frequent label (majority vote)\n",
    "            values, counts = np.unique(nn_labels, return_counts=True)\n",
    "            preds[i, j] = values[np.argmax(counts)]\n",
    "\n",
    "    return preds\n"
   ]
  },
  {
   "cell_type": "code",
   "execution_count": 42,
   "id": "5e00465a",
   "metadata": {},
   "outputs": [],
   "source": [
    "def predict_linear_regression(train_X: np.ndarray,\n",
    "                              train_Y: np.ndarray,\n",
    "                              test_X:  np.ndarray) -> np.ndarray:\n",
    "    \"\"\"\n",
    "    Predict test_Y by fitting a simple linear regression (Y = wX + b) per run.\n",
    "\n",
    "    Args:\n",
    "        train_X (np.ndarray): shape (a, b), training inputs for each of a runs\n",
    "        train_Y (np.ndarray): shape (a, b), training targets for each of a runs\n",
    "        test_X  (np.ndarray): shape (a, c), test inputs for each of a runs\n",
    "\n",
    "    Returns:\n",
    "        np.ndarray: shape (a, c), predicted targets for each run’s test set\n",
    "    \"\"\"\n",
    "    a, c = test_X.shape\n",
    "    preds = np.zeros((a, c), dtype=float)\n",
    "\n",
    "    for i in range(a):\n",
    "        # Extract this run's data\n",
    "        X_i = train_X[i]\n",
    "        y_i = train_Y[i]\n",
    "\n",
    "        # Build design matrix [X_i, 1]\n",
    "        D = np.vstack([X_i, np.ones_like(X_i)]).T  # shape (b, 2)\n",
    "\n",
    "        # Solve least squares for [w, b]\n",
    "        (w, b), *_ = np.linalg.lstsq(D, y_i, rcond=None)\n",
    "\n",
    "        # Predict on test set\n",
    "        preds[i] = w * test_X[i] + b\n",
    "\n",
    "    return preds\n"
   ]
  },
  {
   "cell_type": "code",
   "execution_count": 43,
   "id": "c161674d",
   "metadata": {},
   "outputs": [],
   "source": [
    "from sklearn.neural_network import MLPRegressor\n",
    "\n",
    "def predict_mlp_regression(train_X: np.ndarray,\n",
    "                           train_Y: np.ndarray,\n",
    "                           test_X:  np.ndarray,\n",
    "                           hidden_layer_sizes: tuple = (32,),\n",
    "                           max_iter: int = 10000) -> np.ndarray:\n",
    "    \"\"\"\n",
    "    Predict test_Y by fitting an MLP regressor per run.\n",
    "\n",
    "    Args:\n",
    "        train_X (np.ndarray): shape (a, b), training inputs for each of a runs\n",
    "        train_Y (np.ndarray): shape (a, b), training targets for each of a runs\n",
    "        test_X  (np.ndarray): shape (a, c), test inputs for each of a runs\n",
    "        hidden_layer_sizes (tuple): hidden-layer sizes for the MLP (default (32,))\n",
    "        max_iter (int): maximum iterations for training (default 200)\n",
    "\n",
    "    Returns:\n",
    "        np.ndarray: shape (a, c), predicted targets for each run’s test set\n",
    "    \"\"\"\n",
    "    a, b = train_X.shape\n",
    "    _, c = test_X.shape\n",
    "    preds = np.zeros((a, c), dtype=float)\n",
    "\n",
    "    for i in range(a):\n",
    "        # Prepare data for run i\n",
    "        X_i = train_X[i].reshape(-1, 1)  # shape (b, 1)\n",
    "        y_i = train_Y[i]                 # shape (b,)\n",
    "        X_test_i = test_X[i].reshape(-1, 1)  # shape (c, 1)\n",
    "\n",
    "        # Initialize and fit the MLP regressor\n",
    "        mlp = MLPRegressor(hidden_layer_sizes=hidden_layer_sizes,\n",
    "                           activation='relu',\n",
    "                           solver='adam',\n",
    "                           max_iter=max_iter,\n",
    "                           random_state=0)\n",
    "        mlp.fit(X_i, y_i)\n",
    "\n",
    "        # Predict on the test set for run i\n",
    "        preds[i] = mlp.predict(X_test_i)\n",
    "\n",
    "    return preds\n"
   ]
  },
  {
   "cell_type": "code",
   "execution_count": 44,
   "id": "3bf4f83c",
   "metadata": {},
   "outputs": [],
   "source": [
    "def loss(test_Y, test_Y_hat):\n",
    "    \"\"\"\n",
    "    Calculate the loss between the true and predicted values.\n",
    "\n",
    "    Args:\n",
    "        train_Y (np.ndarray): True output data.\n",
    "        test_Y_hat (np.ndarray): Predicted output data.\n",
    "\n",
    "    Returns:\n",
    "        float: The calculated loss.\n",
    "    \"\"\"\n",
    "    # Calculate the loss\n",
    "    return np.mean((test_Y - test_Y_hat) ** 2)"
   ]
  },
  {
   "cell_type": "code",
   "execution_count": 45,
   "id": "ea7bf068",
   "metadata": {},
   "outputs": [
    {
     "name": "stdout",
     "output_type": "stream",
     "text": [
      "(100, 50)\n",
      "(100, 50)\n",
      "(100, 10)\n",
      "(100, 10)\n"
     ]
    }
   ],
   "source": [
    "train_X, train_Y, test_X, test_Y = generate_conversion_datasets_random_bases(a = 100)\n",
    "print(train_X.shape)\n",
    "print(train_Y.shape)  \n",
    "print(test_X.shape)  \n",
    "print(test_Y.shape) "
   ]
  },
  {
   "cell_type": "code",
   "execution_count": 46,
   "id": "4d835d34",
   "metadata": {},
   "outputs": [
    {
     "name": "stdout",
     "output_type": "stream",
     "text": [
      "Mean Squared Error Loss: 88690.04864\n"
     ]
    }
   ],
   "source": [
    "average_predictions = predict_mean(train_X, train_Y, test_X)\n",
    "assert average_predictions.shape == (100, 10), f\"Expected shape (100, 10), got {average_predictions.shape}\"\n",
    "\n",
    "mse_loss = loss(test_Y, average_predictions)\n",
    "print(f\"Mean Squared Error Loss: {mse_loss}\")"
   ]
  },
  {
   "cell_type": "code",
   "execution_count": 47,
   "id": "22ccc9c5",
   "metadata": {},
   "outputs": [
    {
     "name": "stdout",
     "output_type": "stream",
     "text": [
      "Mean Squared Error Loss: 216.202\n"
     ]
    }
   ],
   "source": [
    "nearest_neighbors = predict_3nn(train_X, train_Y, test_X, k=1)\n",
    "assert nearest_neighbors.shape == (100, 10), f\"Expected shape (100, 10), got {nearest_neighbors.shape}\"\n",
    "\n",
    "mse_loss = loss(test_Y, nearest_neighbors)\n",
    "print(f\"Mean Squared Error Loss: {mse_loss}\")"
   ]
  },
  {
   "cell_type": "code",
   "execution_count": 48,
   "id": "ad48c3cd",
   "metadata": {},
   "outputs": [
    {
     "name": "stdout",
     "output_type": "stream",
     "text": [
      "Mean Squared Error Loss: 1968.3362394643564\n"
     ]
    }
   ],
   "source": [
    "regression_predictions = predict_linear_regression(train_X, train_Y, test_X)\n",
    "assert regression_predictions.shape == (100, 10), f\"Expected shape (100, 10), got {regression_predictions.shape}\"\n",
    "mse_loss = loss(test_Y, regression_predictions)\n",
    "print(f\"Mean Squared Error Loss: {mse_loss}\")"
   ]
  },
  {
   "cell_type": "code",
   "execution_count": 49,
   "id": "832dfdc9",
   "metadata": {},
   "outputs": [],
   "source": [
    "# mlp_predictions = predict_mlp_regression(train_X, train_Y, test_X)\n",
    "# assert mlp_predictions.shape == (100, 10), f\"Expected shape (100, 10), got {mlp_predictions.shape}\"\n",
    "# mse_loss = loss(test_Y, mlp_predictions)\n",
    "# print(f\"Mean Squared Error Loss: {mse_loss}\")"
   ]
  },
  {
   "cell_type": "code",
   "execution_count": 50,
   "id": "cadb3c5b",
   "metadata": {},
   "outputs": [
    {
     "name": "stdout",
     "output_type": "stream",
     "text": [
      "Average Loss: 181588.9609375, Nearest Neighbor Loss: 181588.9609375, 3 Nearest Neighbor Loss: 181588.9609375, Regression Loss: 157612935808.37247\n",
      "Average Loss: 127715.459765625, Nearest Neighbor Loss: 77530.25078125, 3 Nearest Neighbor Loss: 172888.11796875, Regression Loss: 75968857784.78307\n",
      "Average Loss: 103528.92899305555, Nearest Neighbor Loss: 39094.5828125, 3 Nearest Neighbor Loss: 172524.39375, Regression Loss: 36903249.69885963\n",
      "Average Loss: 112152.32373046875, Nearest Neighbor Loss: 27184.48125, 3 Nearest Neighbor Loss: 117011.3796875, Regression Loss: 231050.3758032419\n",
      "Average Loss: 100541.7261875, Nearest Neighbor Loss: 17506.6390625, 3 Nearest Neighbor Loss: 74066.53671875, Regression Loss: 151045.1861208186\n",
      "Average Loss: 98511.89778645833, Nearest Neighbor Loss: 13240.6890625, 3 Nearest Neighbor Loss: 58163.60625, Regression Loss: 6400.280870007676\n",
      "Average Loss: 95706.79296875, Nearest Neighbor Loss: 10251.35, 3 Nearest Neighbor Loss: 43623.4375, Regression Loss: 2590.429831351374\n",
      "Average Loss: 87941.83552246094, Nearest Neighbor Loss: 7329.6546875, 3 Nearest Neighbor Loss: 31604.8734375, Regression Loss: 3570.6632563865874\n",
      "Average Loss: 91234.83204089505, Nearest Neighbor Loss: 6265.05234375, 3 Nearest Neighbor Loss: 25684.75546875, Regression Loss: 6071.106646780977\n",
      "Average Loss: 94284.224796875, Nearest Neighbor Loss: 5384.00859375, 3 Nearest Neighbor Loss: 22925.078125, Regression Loss: 2984.612376710892\n",
      "Average Loss: 90799.79265883265, Nearest Neighbor Loss: 5097.5046875, 3 Nearest Neighbor Loss: 19539.52890625, Regression Loss: 2509.4877938893997\n",
      "Average Loss: 89001.79035373263, Nearest Neighbor Loss: 3327.275, 3 Nearest Neighbor Loss: 14912.05546875, Regression Loss: 2403.508141317539\n",
      "Average Loss: 90026.66690088758, Nearest Neighbor Loss: 3669.03203125, 3 Nearest Neighbor Loss: 13485.5453125, Regression Loss: 2212.7269511187246\n",
      "Average Loss: 87458.17691725127, Nearest Neighbor Loss: 2598.7828125, 3 Nearest Neighbor Loss: 11960.559375, Regression Loss: 2267.173675600937\n",
      "Average Loss: 88317.71751388889, Nearest Neighbor Loss: 2322.35078125, 3 Nearest Neighbor Loss: 10696.66796875, Regression Loss: 2187.4266441322516\n",
      "Average Loss: 89312.39629516602, Nearest Neighbor Loss: 2230.28828125, 3 Nearest Neighbor Loss: 9077.95390625, Regression Loss: 2365.98957147164\n",
      "Average Loss: 90688.25174632354, Nearest Neighbor Loss: 1850.14140625, 3 Nearest Neighbor Loss: 8504.41953125, Regression Loss: 2373.1657693563334\n",
      "Average Loss: 87670.28679832176, Nearest Neighbor Loss: 1821.19140625, 3 Nearest Neighbor Loss: 6764.80625, Regression Loss: 2429.610574638346\n",
      "Average Loss: 88439.2307371018, Nearest Neighbor Loss: 1376.56953125, 3 Nearest Neighbor Loss: 5858.24453125, Regression Loss: 1909.7562767311974\n",
      "Average Loss: 88321.98844921876, Nearest Neighbor Loss: 1313.36640625, 3 Nearest Neighbor Loss: 5762.2765625, Regression Loss: 2131.9255124227816\n",
      "Average Loss: 83898.09428677722, Nearest Neighbor Loss: 1217.61484375, 3 Nearest Neighbor Loss: 4866.6046875, Regression Loss: 2165.390568180551\n",
      "Average Loss: 85703.68797778925, Nearest Neighbor Loss: 1214.86484375, 3 Nearest Neighbor Loss: 4715.7375, Regression Loss: 2142.434285288138\n",
      "Average Loss: 86031.41287068762, Nearest Neighbor Loss: 1039.81796875, 3 Nearest Neighbor Loss: 4403.5578125, Regression Loss: 1841.5913169117607\n",
      "Average Loss: 86366.02532009548, Nearest Neighbor Loss: 814.03515625, 3 Nearest Neighbor Loss: 3912.884375, Regression Loss: 2166.773493507676\n",
      "Average Loss: 88806.35168875, Nearest Neighbor Loss: 968.87578125, 3 Nearest Neighbor Loss: 3810.17265625, Regression Loss: 1797.5820729594866\n",
      "Average Loss: 88069.19093934911, Nearest Neighbor Loss: 779.45546875, 3 Nearest Neighbor Loss: 3422.25078125, Regression Loss: 1979.947764733492\n",
      "Average Loss: 84469.51610832477, Nearest Neighbor Loss: 814.0703125, 3 Nearest Neighbor Loss: 3168.5890625, Regression Loss: 1957.2168544183392\n",
      "Average Loss: 87599.30129743305, Nearest Neighbor Loss: 613.39921875, 3 Nearest Neighbor Loss: 2635.94765625, Regression Loss: 2061.2646179796297\n",
      "Average Loss: 84882.61750334424, Nearest Neighbor Loss: 618.353125, 3 Nearest Neighbor Loss: 2613.62421875, Regression Loss: 1779.9580457833406\n",
      "Average Loss: 85830.99025520834, Nearest Neighbor Loss: 586.0640625, 3 Nearest Neighbor Loss: 2276.82109375, Regression Loss: 1932.2248986155603\n",
      "Average Loss: 89304.78339701483, Nearest Neighbor Loss: 580.51875, 3 Nearest Neighbor Loss: 2357.6953125, Regression Loss: 1950.7075489659487\n",
      "Average Loss: 89021.29212493896, Nearest Neighbor Loss: 500.51796875, 3 Nearest Neighbor Loss: 2271.6546875, Regression Loss: 2152.6876932274263\n",
      "Average Loss: 82425.32341813017, Nearest Neighbor Loss: 479.6984375, 3 Nearest Neighbor Loss: 1869.08984375, Regression Loss: 1727.1370704586716\n",
      "Average Loss: 86011.33965316825, Nearest Neighbor Loss: 506.159375, 3 Nearest Neighbor Loss: 1919.0, Regression Loss: 1780.7691232316745\n",
      "Average Loss: 86929.72517091836, Nearest Neighbor Loss: 442.65546875, 3 Nearest Neighbor Loss: 1753.88828125, Regression Loss: 2217.848290460056\n",
      "Average Loss: 86134.193057364, Nearest Neighbor Loss: 381.43515625, 3 Nearest Neighbor Loss: 1591.18125, Regression Loss: 1721.4544644453854\n",
      "Average Loss: 86694.29596192477, Nearest Neighbor Loss: 395.5546875, 3 Nearest Neighbor Loss: 1565.63046875, Regression Loss: 1745.0690972736538\n",
      "Average Loss: 86188.38455895083, Nearest Neighbor Loss: 374.50625, 3 Nearest Neighbor Loss: 1505.32109375, Regression Loss: 2136.1639418302993\n",
      "Average Loss: 84842.09541368755, Nearest Neighbor Loss: 365.746875, 3 Nearest Neighbor Loss: 1496.79609375, Regression Loss: 1762.5845800230468\n",
      "Average Loss: 85871.69390966797, Nearest Neighbor Loss: 368.5609375, 3 Nearest Neighbor Loss: 1497.05546875, Regression Loss: 2115.0081012835008\n",
      "Average Loss: 84196.88726065215, Nearest Neighbor Loss: 314.44453125, 3 Nearest Neighbor Loss: 1225.08203125, Regression Loss: 1827.5831215306412\n",
      "Average Loss: 80550.4541994402, Nearest Neighbor Loss: 296.659375, 3 Nearest Neighbor Loss: 1211.81171875, Regression Loss: 2027.8175478798385\n",
      "Average Loss: 87763.03648974109, Nearest Neighbor Loss: 282.25078125, 3 Nearest Neighbor Loss: 1142.28203125, Regression Loss: 1717.251379508784\n",
      "Average Loss: 83580.40541951833, Nearest Neighbor Loss: 281.0234375, 3 Nearest Neighbor Loss: 1172.45234375, Regression Loss: 1803.496638885868\n",
      "Average Loss: 84957.16160108025, Nearest Neighbor Loss: 280.57734375, 3 Nearest Neighbor Loss: 1114.81640625, Regression Loss: 2151.624087757442\n",
      "Average Loss: 86755.33111117675, Nearest Neighbor Loss: 249.3296875, 3 Nearest Neighbor Loss: 1063.4484375, Regression Loss: 1860.22920644786\n",
      "Average Loss: 85042.35820294816, Nearest Neighbor Loss: 306.78828125, 3 Nearest Neighbor Loss: 961.25078125, Regression Loss: 1495.8834939573637\n",
      "Average Loss: 81658.04699537488, Nearest Neighbor Loss: 241.940625, 3 Nearest Neighbor Loss: 980.0796875, Regression Loss: 2330.7758191146686\n",
      "Average Loss: 82801.70473695856, Nearest Neighbor Loss: 204.61640625, 3 Nearest Neighbor Loss: 864.31875, Regression Loss: 1698.242473933399\n",
      "Average Loss: 83899.46556000001, Nearest Neighbor Loss: 222.6859375, 3 Nearest Neighbor Loss: 889.6953125, Regression Loss: 1646.350007635283\n"
     ]
    }
   ],
   "source": [
    "average_lossses = []\n",
    "nearest_neighbors_losses = []\n",
    "nearest_neighbors_3_losses = []\n",
    "regression_losses = []\n",
    "\n",
    "for in_context_examples in range(1,51):\n",
    "    train_X, train_Y, test_X, test_Y = generate_conversion_datasets_random_bases(a = 1280, b = in_context_examples, c = 1, lower_bound = 1, upper_bound = 1000)\n",
    "    average_predictions = predict_mean(train_X, train_Y, test_X)\n",
    "    assert average_predictions.shape == (1280, 1), f\"Expected shape (1280, 1), got {average_predictions.shape}\"\n",
    "    nn_predictions = predict_3nn(train_X, train_Y, test_X, k=1)\n",
    "    assert nn_predictions.shape == (1280, 1), f\"Expected shape (1280, 1), got {nn_predictions.shape}\"\n",
    "    nn3_predictions = predict_3nn(train_X, train_Y, test_X, k=3)\n",
    "    assert nn_predictions.shape == (1280, 1), f\"Expected shape (1280, 1), got {nn_predictions.shape}\"\n",
    "    regression_predictions = predict_linear_regression(train_X, train_Y, test_X)\n",
    "    assert regression_predictions.shape == (1280, 1), f\"Expected shape (1280, 1), got {regression_predictions.shape}\"\n",
    "    average_loss = loss(test_Y, average_predictions)\n",
    "    nn_loss = loss(test_Y, nn_predictions)\n",
    "    nn3_loss = loss(test_Y, nn3_predictions)\n",
    "    regression_loss = loss(test_Y, regression_predictions)\n",
    "    print(f\"Average Loss: {average_loss}, Nearest Neighbor Loss: {nn_loss}, 3 Nearest Neighbor Loss: {nn3_loss}, Regression Loss: {regression_loss}\")\n",
    "    average_lossses.append(average_loss)\n",
    "    nearest_neighbors_losses.append(nn_loss)\n",
    "    nearest_neighbors_3_losses.append(nn3_loss)\n",
    "    regression_losses.append(regression_loss)\n"
   ]
  },
  {
   "cell_type": "code",
   "execution_count": null,
   "id": "7f7c494c",
   "metadata": {},
   "outputs": [
    {
     "data": {
      "image/png": "[encoded data removed]",
      "text/plain": [
       "<Figure size 640x480 with 1 Axes>"
      ]
     },
     "metadata": {},
     "output_type": "display_data"
    }
   ],
   "source": [
    "import matplotlib.pyplot as plt\n",
    "\n",
    "plt.plot(range(1, 51), np.log(average_lossses), label='Average Loss')\n",
    "plt.plot(range(1, 51), np.log(nearest_neighbors_losses), label='Nearest Neighbor Loss')\n",
    "plt.plot(range(1, 51), np.log(nearest_neighbors_3_losses), label='3 Nearest Neighbor Loss')\n",
    "plt.plot(range(1, 51), np.log(regression_losses), label='Regression Loss')\n",
    "plt.xlabel('Number of In-Context Examples')\n",
    "plt.ylabel('Log Loss')\n",
    "plt.title('Loss vs Number of In-Context Examples')\n",
    "plt.legend()\n",
    "plt.show()"
   ]
  },
  {
   "cell_type": "code",
   "execution_count": 54,
   "id": "0e8c922a",
   "metadata": {},
   "outputs": [
    {
     "data": {
      "image/png": "[encoded data removed]",
      "text/plain": [
       "<Figure size 640x480 with 1 Axes>"
      ]
     },
     "metadata": {},
     "output_type": "display_data"
    }
   ],
   "source": [
    "import matplotlib.pyplot as plt\n",
    "import numpy as np\n",
    "\n",
    "plt.plot(range(1, 51), np.log(np.log(average_lossses)), label='Average Loss')\n",
    "plt.plot(range(1, 51), np.log(np.log(nearest_neighbors_losses)), label='Nearest Neighbor Loss')\n",
    "plt.plot(range(1, 51), np.log(np.log(nearest_neighbors_3_losses)), label='3‑NN Loss')\n",
    "plt.plot(range(1, 51), np.log(np.log(regression_losses)), label='Regression Loss')\n",
    "\n",
    "plt.xlabel('Number of In-Context Examples')\n",
    "plt.ylabel('Double-Log Loss')\n",
    "plt.title('Double-Log Loss vs Number of In-Context Examples')\n",
    "plt.legend()\n",
    "plt.show()\n"
   ]
  },
  {
   "cell_type": "code",
   "execution_count": null,
   "id": "1f3b6d63",
   "metadata": {},
   "outputs": [],
   "source": []
  }
 ],
 "metadata": {
  "kernelspec": {
   "display_name": "cs182",
   "language": "python",
   "name": "python3"
  },
  "language_info": {
   "codemirror_mode": {
    "name": "ipython",
    "version": 3
   },
   "file_extension": ".py",
   "mimetype": "text/x-python",
   "name": "python",
   "nbconvert_exporter": "python",
   "pygments_lexer": "ipython3",
   "version": "3.11.11"
  }
 },
 "nbformat": 4,
 "nbformat_minor": 5
}
